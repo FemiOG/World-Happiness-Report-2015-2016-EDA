{
  "metadata": {
    "kernelspec": {
      "display_name": "Python 3",
      "language": "python",
      "name": "python3"
    },
    "language_info": {
      "codemirror_mode": {
        "name": "ipython",
        "version": 3
      },
      "file_extension": ".py",
      "mimetype": "text/x-python",
      "name": "python",
      "nbconvert_exporter": "python",
      "pygments_lexer": "ipython3",
      "version": "3.6.0"
    }
  },
  "nbformat": 4,
  "nbformat_minor": 0,
  "cells": [
    {
      "cell_type": "code",
      "source": "import pandas as pd\nfrom pythainlp.segment import segment\nimport seaborn as sns\nimport numpy as np\nimport matplotlib.pyplot as plt\nimport math\n%matplotlib inline\ndataset = pd.read_csv(\"../input/2015.csv\")",
      "execution_count": null,
      "outputs": [],
      "metadata": {}
    },
    {
      "cell_type": "code",
      "source": "dataset.head()",
      "execution_count": null,
      "outputs": [],
      "metadata": {}
    },
    {
      "cell_type": "code",
      "source": "#Let's rename Economy (blabla) to Economy\ndataset = dataset.rename(columns={'Economy (GDP per Capita)': 'Economy'})",
      "execution_count": null,
      "outputs": [],
      "metadata": {}
    },
    {
      "cell_type": "code",
      "source": "#correlation matrix\ncorrmat = dataset.corr()\nf, ax = plt.subplots(figsize=(12, 9))\nsns.heatmap(corrmat, vmax=.8, square=True);",
      "execution_count": null,
      "outputs": [],
      "metadata": {}
    },
    {
      "cell_type": "code",
      "source": "#scatterplot\nsns.set()\nsns.pairplot(dataset, size = 2.5)\nplt.show();",
      "execution_count": null,
      "outputs": [],
      "metadata": {}
    },
    {
      "cell_type": "markdown",
      "source": "",
      "metadata": {}
    },
    {
      "cell_type": "code",
      "source": "sns.swarmplot(x=\"Region\", y=\"Happiness Score\",  data=dataset)\nplt.xticks(rotation=30)",
      "execution_count": null,
      "outputs": [],
      "metadata": {}
    },
    {
      "cell_type": "markdown",
      "source": "",
      "metadata": {}
    },
    {
      "cell_type": "code",
      "source": "",
      "execution_count": null,
      "outputs": [],
      "metadata": {}
    },
    {
      "cell_type": "markdown",
      "source": "",
      "metadata": {}
    },
    {
      "cell_type": "code",
      "source": "w_europe = dataset[dataset.Region=='Western Europe']\nec_europe = dataset[dataset.Region=='Central and Eastern Europe']\neurope = pd.concat([w_europe,ec_europe],axis=0)\neurope.head()",
      "execution_count": null,
      "outputs": [],
      "metadata": {}
    },
    {
      "cell_type": "markdown",
      "source": "",
      "metadata": {}
    },
    {
      "cell_type": "code",
      "source": "sns.lmplot(data=europe,x='Economy',y='Happiness Score',hue=\"Region\")",
      "execution_count": null,
      "outputs": [],
      "metadata": {}
    },
    {
      "cell_type": "markdown",
      "source": "",
      "metadata": {}
    },
    {
      "cell_type": "code",
      "source": "selectCols=  ['Happiness Score','Economy','Family','Health (Life Expectancy)','Freedom','Trust (Government Corruption)','Region']\nsns.pairplot(europe[selectCols], hue='Region',size=2.5)",
      "execution_count": null,
      "outputs": [],
      "metadata": {}
    },
    {
      "cell_type": "markdown",
      "source": "",
      "metadata": {}
    },
    {
      "cell_type": "markdown",
      "source": "",
      "metadata": {}
    },
    {
      "cell_type": "code",
      "source": "f, axes = plt.subplots(3, 2, figsize=(16, 16))\naxes = axes.flatten()\ncompareCols = ['Happiness Score','Economy','Family','Health (Life Expectancy)','Freedom','Trust (Government Corruption)']\nfor i in range(len(compareCols)):\n    col = compareCols[i]\n    axi = axes[i]\n    sns.distplot(w_europe[col],color='blue' , label='West', ax=axi)\n    sns.distplot(ec_europe[col],color='green', label='Central/East',ax=axi)\n    axi.legend()",
      "execution_count": null,
      "outputs": [],
      "metadata": {}
    },
    {
      "cell_type": "markdown",
      "source": "",
      "metadata": {}
    },
    {
      "cell_type": "code",
      "source": "def plot_compare(dataset,regions,compareCols):\n    n = len(compareCols)\n    f, axes = plt.subplots(math.ceil(n/2), 2, figsize=(16, 6*math.ceil(n/2)))\n    axes = axes.flatten()\n    #compareCols = ['Happiness Score','Economy','Family','Health (Life Expectancy)','Freedom','Trust (Government Corruption)']\n    for i in range(len(compareCols)):\n        col = compareCols[i]\n        axi = axes[i]\n        for region in regions:\n            this_region = dataset[dataset['Region']==region]\n            sns.distplot(this_region[col], label=region, ax=axi)\n        axi.legend()",
      "execution_count": null,
      "outputs": [],
      "metadata": {}
    },
    {
      "cell_type": "code",
      "source": "",
      "execution_count": null,
      "outputs": [],
      "metadata": {}
    },
    {
      "cell_type": "code",
      "source": "plot_compare(dataset,['Western Europe', 'North America', 'Australia and New Zealand',\n       'Middle East and Northern Africa', 'Latin America and Caribbean',\n       'Southeastern Asia', 'Central and Eastern Europe', 'Eastern Asia',\n       'Sub-Saharan Africa', 'Southern Asia'],['Happiness Score','Economy','Family','Health (Life Expectancy)','Freedom','Trust (Government Corruption)'])",
      "execution_count": null,
      "outputs": [],
      "metadata": {}
    },
    {
      "cell_type": "markdown",
      "source": "",
      "metadata": {}
    },
    {
      "cell_type": "code",
      "source": "regions = [\n       'Middle East and Northern Africa', 'Latin America and Caribbean',\n       'Southeastern Asia']\nselectCol = ['Happiness Score','Economy','Family','Health (Life Expectancy)','Freedom','Trust (Government Corruption)']\nplot_compare(dataset,regions,selectCol)",
      "execution_count": null,
      "outputs": [],
      "metadata": {}
    },
    {
      "cell_type": "markdown",
      "source": "",
      "metadata": {}
    },
    {
      "cell_type": "code",
      "source": "regions = ['Western Europe', 'Middle East and Northern Africa',\n       'Sub-Saharan Africa', 'Southern Asia']\nselectCol = ['Happiness Score','Economy','Family','Health (Life Expectancy)','Freedom','Trust (Government Corruption)']\nplot_compare(dataset,regions,selectCol)",
      "execution_count": null,
      "outputs": [],
      "metadata": {}
    },
    {
      "cell_type": "markdown",
      "source": "",
      "metadata": {}
    },
    {
      "cell_type": "markdown",
      "source": "<h3>Next time, we will be looking at how overall happiness change from 2015 to 2016 and what cause them.</h3>",
      "metadata": {}
    }
  ]
}